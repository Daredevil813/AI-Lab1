{
  "nbformat": 4,
  "nbformat_minor": 0,
  "metadata": {
    "colab": {
      "provenance": []
    },
    "kernelspec": {
      "name": "python3",
      "display_name": "Python 3"
    },
    "language_info": {
      "name": "python"
    }
  },
  "cells": [
    {
      "cell_type": "code",
      "execution_count": null,
      "metadata": {
        "colab": {
          "base_uri": "https://localhost:8080/"
        },
        "id": "HiYJLAWNG77Y",
        "outputId": "1c80863b-345a-47c5-e390-e258b8b5df6e"
      },
      "outputs": [
        {
          "output_type": "stream",
          "name": "stdout",
          "text": [
            "Enter namemahadf\n",
            "enter age 12\n",
            "Hello mahadf your age 12\n"
          ]
        }
      ],
      "source": [
        "data=input(\"Enter name\")\n",
        "age=input(\"enter age \")\n",
        "print(f\"Hello {data} your age {age}\")"
      ]
    },
    {
      "cell_type": "code",
      "source": [
        "data=input(\"Enter value\")\n",
        "try:\n",
        "  val=int(data)\n",
        "  print(\"input is integer\")\n",
        "except ValueError:\n",
        "    try:\n",
        "      value = float(data)\n",
        "      print(\"input is float\")\n",
        "    except ValueError:\n",
        "      print(\"input is string\")\n"
      ],
      "metadata": {
        "colab": {
          "base_uri": "https://localhost:8080/"
        },
        "id": "jWXr58vnHvi4",
        "outputId": "4f4571b1-f99b-4171-c547-246437330661"
      },
      "execution_count": 6,
      "outputs": [
        {
          "output_type": "stream",
          "name": "stdout",
          "text": [
            "Enter value12.2\n",
            "input is float\n"
          ]
        }
      ]
    },
    {
      "cell_type": "code",
      "source": [
        "list1=[]\n",
        "list1.append(\"fast\")\n",
        "list1.append(\"apple\")\n",
        "list1.append(\"xqc\")\n",
        "for item in list1:\n",
        "    print(item)\n",
        "list1.remove(\"xqc\")\n",
        "for item in list1:\n",
        "    print(item)\n",
        "for item in list1:\n",
        "    print(item.upper())"
      ],
      "metadata": {
        "colab": {
          "base_uri": "https://localhost:8080/"
        },
        "id": "z3GOcMQ9IPef",
        "outputId": "3cf1b889-20bc-46ad-a7fa-f4e7061c22b3"
      },
      "execution_count": 3,
      "outputs": [
        {
          "output_type": "stream",
          "name": "stdout",
          "text": [
            "fast\n",
            "apple\n",
            "xqc\n",
            "fast\n",
            "apple\n",
            "FAST\n",
            "APPLE\n"
          ]
        }
      ]
    },
    {
      "cell_type": "code",
      "source": [
        "data=(1,2)\n",
        "entry1=data[0]\n",
        "entry2=data[1]\n",
        "print(entry1)\n",
        "print(entry2)"
      ],
      "metadata": {
        "colab": {
          "base_uri": "https://localhost:8080/"
        },
        "id": "IFeBCanpJ7qw",
        "outputId": "3cb8ab94-acc4-4f14-d82f-fe8635f5d3bf"
      },
      "execution_count": 7,
      "outputs": [
        {
          "output_type": "stream",
          "name": "stdout",
          "text": [
            "1\n",
            "2\n"
          ]
        }
      ]
    },
    {
      "cell_type": "code",
      "source": [
        "dictionary={\n",
        "    \"mahad\": \"1\",\n",
        "    \"mad\": \"2\",\n",
        "    \"maa\": \"3\",\n",
        "    \"maha\": \"4\",\n",
        "    \"mah\": \"5\"\n",
        "}\n",
        "print(dictionary)"
      ],
      "metadata": {
        "colab": {
          "base_uri": "https://localhost:8080/"
        },
        "id": "lsfVCeaTKXRh",
        "outputId": "0c921dde-b7f7-40bc-fdfc-c40ae33a7511"
      },
      "execution_count": null,
      "outputs": [
        {
          "output_type": "stream",
          "name": "stdout",
          "text": [
            "{'mahad': '1', 'mad': '2', 'maa': '3', 'maha': '4', 'mah': '5'}\n"
          ]
        }
      ]
    },
    {
      "cell_type": "code",
      "source": [
        "list1=input(\"Enter element by space\").split(\" \")\n",
        "list2=input(\"Enter element by space\").split(\" \")\n",
        "set1=set(map(int,list1))\n",
        "set2=set(map(int,list2))\n",
        "union=set1 | set2\n",
        "print(union)\n",
        "intersect=set1.intersection(set2)\n",
        "print(intersect)\n",
        "diff=set1.difference(set2)\n",
        "print(diff)\n"
      ],
      "metadata": {
        "id": "noeHlI0-K5ft",
        "colab": {
          "base_uri": "https://localhost:8080/"
        },
        "outputId": "3638fc2d-cd92-434e-ff5a-fab19ec706f2"
      },
      "execution_count": 12,
      "outputs": [
        {
          "output_type": "stream",
          "name": "stdout",
          "text": [
            "Enter element by space1 2 3 4\n",
            "Enter element by space3 4 5 6\n",
            "{1, 2, 3, 4, 5, 6}\n",
            "{3, 4}\n",
            "{1, 2}\n"
          ]
        }
      ]
    },
    {
      "cell_type": "code",
      "source": [
        "data=int(input(\"enter a number\"))\n",
        "if data%2==0:\n",
        "  print(\"even\")\n",
        "else:\n",
        "  print(\"odd\")\n",
        "if data>0:\n",
        "  print(\"positive\")\n",
        "elif data<0:\n",
        "  print(\"negative\")\n",
        "else:\n",
        "  print(\"zero\")"
      ],
      "metadata": {
        "colab": {
          "base_uri": "https://localhost:8080/"
        },
        "id": "tW6J4NnAGelj",
        "outputId": "fa8886f2-5651-4e65-e480-8cdfbb805ec2"
      },
      "execution_count": 15,
      "outputs": [
        {
          "output_type": "stream",
          "name": "stdout",
          "text": [
            "enter a number12\n",
            "even\n",
            "positive\n"
          ]
        }
      ]
    },
    {
      "cell_type": "code",
      "source": [
        "\n",
        "for i in range(1,51):\n",
        "  if i%3==0 and i%5==0:\n",
        "    print(\"FizzBuzz\")\n",
        "  elif i%3==0:\n",
        "    print(\"Fizz\")\n",
        "  elif i%5==0:\n",
        "    print(\"Buzz\")\n",
        "  else:\n",
        "    print(i)\n"
      ],
      "metadata": {
        "colab": {
          "base_uri": "https://localhost:8080/"
        },
        "id": "4myGExPEHI9Y",
        "outputId": "a95959a5-b559-4f86-bb3f-b042f6b5a78a"
      },
      "execution_count": 16,
      "outputs": [
        {
          "output_type": "stream",
          "name": "stdout",
          "text": [
            "1\n",
            "2\n",
            "Fizz\n",
            "4\n",
            "Buzz\n",
            "Fizz\n",
            "7\n",
            "8\n",
            "Fizz\n",
            "Buzz\n",
            "11\n",
            "Fizz\n",
            "13\n",
            "14\n",
            "FizzBuzz\n",
            "16\n",
            "17\n",
            "Fizz\n",
            "19\n",
            "Buzz\n",
            "Fizz\n",
            "22\n",
            "23\n",
            "Fizz\n",
            "Buzz\n",
            "26\n",
            "Fizz\n",
            "28\n",
            "29\n",
            "FizzBuzz\n",
            "31\n",
            "32\n",
            "Fizz\n",
            "34\n",
            "Buzz\n",
            "Fizz\n",
            "37\n",
            "38\n",
            "Fizz\n",
            "Buzz\n",
            "41\n",
            "Fizz\n",
            "43\n",
            "44\n",
            "FizzBuzz\n",
            "46\n",
            "47\n",
            "Fizz\n",
            "49\n",
            "Buzz\n"
          ]
        }
      ]
    },
    {
      "cell_type": "code",
      "source": [
        "def factorial(data):\n",
        "  i=int(data)\n",
        "  fact=int(1)\n",
        "  while i!=0:\n",
        "    fact=fact*i\n",
        "    i=i-1\n",
        "  print(fact)\n",
        "\n",
        "data=input(\"enter number\")\n",
        "factorial(data)"
      ],
      "metadata": {
        "id": "mV0pw89CMKAy",
        "colab": {
          "base_uri": "https://localhost:8080/"
        },
        "outputId": "1a9f6ec6-1368-484b-cbbe-99c3610d1054"
      },
      "execution_count": 22,
      "outputs": [
        {
          "output_type": "stream",
          "name": "stdout",
          "text": [
            "enter number4\n",
            "24\n"
          ]
        }
      ]
    },
    {
      "cell_type": "code",
      "source": [
        "def prime(data):\n",
        "  i=int(data)\n",
        "  data=int(data)\n",
        "  i=int(i/2)\n",
        "  print(i)\n",
        "  count=0\n",
        "  while i!=0:\n",
        "    if data%i==0:\n",
        "      count=count+1\n",
        "    i=i-1\n",
        "  if count==1:\n",
        "    print(\"prime\")\n",
        "  else:\n",
        "    print(\"not prime\")\n",
        "\n",
        "data=input(\"enter number\")\n",
        "prime(data)"
      ],
      "metadata": {
        "id": "bEc7dm1OMjb_",
        "colab": {
          "base_uri": "https://localhost:8080/"
        },
        "outputId": "1f37e2c1-da7c-4e4f-8379-d82c9723dfb3"
      },
      "execution_count": 32,
      "outputs": [
        {
          "output_type": "stream",
          "name": "stdout",
          "text": [
            "enter number3\n",
            "1\n",
            "prime\n"
          ]
        }
      ]
    },
    {
      "cell_type": "code",
      "source": [
        "def square(num):\n",
        "    return [x ** 2 for x in num]\n",
        "list1=[1,2,3,4]\n",
        "print(square(list1))"
      ],
      "metadata": {
        "colab": {
          "base_uri": "https://localhost:8080/"
        },
        "id": "M9FsKTctK6sK",
        "outputId": "bb949537-82c8-48ff-cfe3-21709d846e92"
      },
      "execution_count": 33,
      "outputs": [
        {
          "output_type": "stream",
          "name": "stdout",
          "text": [
            "[1, 4, 9, 16]\n"
          ]
        }
      ]
    },
    {
      "cell_type": "code",
      "source": [
        "data1={\"a\":1,\"b\":2,\"c\":3,}\n",
        "data2={\"a\":4,\"e\":5,\"f\":6}\n",
        "data1.update(data2)\n",
        "print(data1)"
      ],
      "metadata": {
        "colab": {
          "base_uri": "https://localhost:8080/"
        },
        "id": "PhZvlQFcK4qj",
        "outputId": "522a5102-8842-41db-f5f1-c28f20be2d4a"
      },
      "execution_count": 34,
      "outputs": [
        {
          "output_type": "stream",
          "name": "stdout",
          "text": [
            "{'a': 4, 'b': 2, 'c': 3, 'e': 5, 'f': 6}\n"
          ]
        }
      ]
    },
    {
      "cell_type": "code",
      "source": [
        "def rem(list1):\n",
        "  uniquelist=[]\n",
        "  for item in list1:\n",
        "    if item not in uniquelist:\n",
        "      uniquelist.append(item)\n",
        "  return uniquelist\n",
        "data=[1,2,3,4,5,5,5,6,7,7]\n",
        "data=rem(data)\n",
        "print(data)"
      ],
      "metadata": {
        "id": "XxEUVNECL4Ay",
        "colab": {
          "base_uri": "https://localhost:8080/"
        },
        "outputId": "7f658bed-b46f-42a8-b710-6020ac013bef"
      },
      "execution_count": 35,
      "outputs": [
        {
          "output_type": "stream",
          "name": "stdout",
          "text": [
            "[1, 2, 3, 4, 5, 6, 7]\n"
          ]
        }
      ]
    },
    {
      "cell_type": "code",
      "source": [
        "\n",
        "def pal(data):\n",
        "  i=len(data)-1\n",
        "  j=0\n",
        "  while j<i:\n",
        "    if data[i]==' ':\n",
        "      i-=1\n",
        "    if data[j]==' ':\n",
        "      j+=1\n",
        "    if(data[i].lower()!=data[j].lower()):\n",
        "      return False\n",
        "    i-=1\n",
        "    j+=1\n",
        "  return True\n",
        "data=input(\"enter string\")\n",
        "if(pal(data)):\n",
        "  print(\"palindrome\")\n",
        "else:\n",
        "  print(\"not palindrome\")"
      ],
      "metadata": {
        "colab": {
          "base_uri": "https://localhost:8080/"
        },
        "id": "GAieDkFdMh4H",
        "outputId": "aa8b4ad7-ead2-4897-a95b-b9857c94eaf0"
      },
      "execution_count": 74,
      "outputs": [
        {
          "output_type": "stream",
          "name": "stdout",
          "text": [
            "enter stringheeeh\n",
            "palindrome\n"
          ]
        }
      ]
    },
    {
      "cell_type": "code",
      "source": [
        "def fibonaci(n):\n",
        "  if(n==1):\n",
        "    print(\"0\")\n",
        "  else:\n",
        "    print(\"0\")\n",
        "    prev=0\n",
        "    current=1\n",
        "    for i in range(1,n):\n",
        "      print(f\"{current}\")\n",
        "      next=prev+current\n",
        "      prev=current\n",
        "      current=next\n",
        "n=int(input(\"enter number\"))\n",
        "fibonaci(n)\n",
        "\n",
        "\n"
      ],
      "metadata": {
        "colab": {
          "base_uri": "https://localhost:8080/"
        },
        "id": "_Cn2iCc9OJcO",
        "outputId": "7d234613-3281-45b2-a2f4-f6756a0d0b72"
      },
      "execution_count": 42,
      "outputs": [
        {
          "output_type": "stream",
          "name": "stdout",
          "text": [
            "enter number10\n",
            "0\n",
            "1\n",
            "1\n",
            "2\n",
            "3\n",
            "5\n",
            "8\n",
            "13\n",
            "21\n",
            "34\n"
          ]
        }
      ]
    },
    {
      "cell_type": "code",
      "source": [
        "list1=[]\n",
        "c=False\n",
        "while (c==False):\n",
        "  list1.append(input(\"Enter first number\"))\n",
        "  list1.append(input(\"Enter second number\"))\n",
        "  list1.append(input(\"Enter third number\"))\n",
        "  list1.append(input(\"Enter fourth number\"))\n",
        "  list1.append(input(\"Enter fifth number\"))\n",
        "  print(f\"your input{list1}\")\n",
        "  d=input(\"is input correct(y or n2)\")\n",
        "  if(d==\"y\"):\n",
        "    c=True\n",
        "  else:\n",
        "    list1.clear()\n",
        "sum=0\n",
        "for i in range(5):\n",
        "  sum=sum+int(list1[i])\n",
        "print(sum/5)\n",
        "\n",
        "\n"
      ],
      "metadata": {
        "colab": {
          "base_uri": "https://localhost:8080/"
        },
        "id": "3JqwZjxbPmCa",
        "outputId": "a756f8a9-1c46-4516-b15f-8acdfb1aff4e"
      },
      "execution_count": 45,
      "outputs": [
        {
          "output_type": "stream",
          "name": "stdout",
          "text": [
            "Enter first number1\n",
            "Enter second number2\n",
            "Enter third number3\n",
            "Enter fourth number4\n",
            "Enter fifth number5\n",
            "your input['1', '2', '3', '4', '5']\n",
            "is input correct(y or n2)y\n",
            "3.0\n"
          ]
        }
      ]
    },
    {
      "cell_type": "code",
      "source": [
        "for i in range(1,11):\n",
        "  for j in range(1,11):\n",
        "    print(f\"{i}*{j}={i*j}\")\n",
        "  print()"
      ],
      "metadata": {
        "colab": {
          "base_uri": "https://localhost:8080/"
        },
        "id": "elYluNT_QOkZ",
        "outputId": "f15f0a43-4fa6-435e-e5d7-19183aa465bf"
      },
      "execution_count": 49,
      "outputs": [
        {
          "output_type": "stream",
          "name": "stdout",
          "text": [
            "1*1=1\n",
            "1*2=2\n",
            "1*3=3\n",
            "1*4=4\n",
            "1*5=5\n",
            "1*6=6\n",
            "1*7=7\n",
            "1*8=8\n",
            "1*9=9\n",
            "1*10=10\n",
            "\n",
            "2*1=2\n",
            "2*2=4\n",
            "2*3=6\n",
            "2*4=8\n",
            "2*5=10\n",
            "2*6=12\n",
            "2*7=14\n",
            "2*8=16\n",
            "2*9=18\n",
            "2*10=20\n",
            "\n",
            "3*1=3\n",
            "3*2=6\n",
            "3*3=9\n",
            "3*4=12\n",
            "3*5=15\n",
            "3*6=18\n",
            "3*7=21\n",
            "3*8=24\n",
            "3*9=27\n",
            "3*10=30\n",
            "\n",
            "4*1=4\n",
            "4*2=8\n",
            "4*3=12\n",
            "4*4=16\n",
            "4*5=20\n",
            "4*6=24\n",
            "4*7=28\n",
            "4*8=32\n",
            "4*9=36\n",
            "4*10=40\n",
            "\n",
            "5*1=5\n",
            "5*2=10\n",
            "5*3=15\n",
            "5*4=20\n",
            "5*5=25\n",
            "5*6=30\n",
            "5*7=35\n",
            "5*8=40\n",
            "5*9=45\n",
            "5*10=50\n",
            "\n",
            "6*1=6\n",
            "6*2=12\n",
            "6*3=18\n",
            "6*4=24\n",
            "6*5=30\n",
            "6*6=36\n",
            "6*7=42\n",
            "6*8=48\n",
            "6*9=54\n",
            "6*10=60\n",
            "\n",
            "7*1=7\n",
            "7*2=14\n",
            "7*3=21\n",
            "7*4=28\n",
            "7*5=35\n",
            "7*6=42\n",
            "7*7=49\n",
            "7*8=56\n",
            "7*9=63\n",
            "7*10=70\n",
            "\n",
            "8*1=8\n",
            "8*2=16\n",
            "8*3=24\n",
            "8*4=32\n",
            "8*5=40\n",
            "8*6=48\n",
            "8*7=56\n",
            "8*8=64\n",
            "8*9=72\n",
            "8*10=80\n",
            "\n",
            "9*1=9\n",
            "9*2=18\n",
            "9*3=27\n",
            "9*4=36\n",
            "9*5=45\n",
            "9*6=54\n",
            "9*7=63\n",
            "9*8=72\n",
            "9*9=81\n",
            "9*10=90\n",
            "\n",
            "10*1=10\n",
            "10*2=20\n",
            "10*3=30\n",
            "10*4=40\n",
            "10*5=50\n",
            "10*6=60\n",
            "10*7=70\n",
            "10*8=80\n",
            "10*9=90\n",
            "10*10=100\n",
            "\n"
          ]
        }
      ]
    },
    {
      "cell_type": "code",
      "source": [
        "\n",
        "data = {}\n",
        "\n",
        "def register():\n",
        "    username = input(\"Enter a username: \")\n",
        "    if username in data:\n",
        "        print(\"Username already taken.\")\n",
        "    else:\n",
        "        password = input(\"Enter a password: \")\n",
        "        data[username] = password\n",
        "        print(f\"register successfully\")\n",
        "\n",
        "def login():\n",
        "    username = input(\"Enter your username:\")\n",
        "    password = input(\"Enter your password:\")\n",
        "\n",
        "    if username in data and data[username] == password:\n",
        "        print(f\"Login successful\")\n",
        "    else:\n",
        "        print(\"Invalid username or password\")\n",
        "\n",
        "\n",
        "def system():\n",
        "    c=True\n",
        "    while c:\n",
        "        print(\"Input number\")\n",
        "        print(\"1 to Register,2 to login,3 to exit \")\n",
        "        choice = input(\"Choose an option (1/2/3): \")\n",
        "        if choice == \"1\":\n",
        "            register()\n",
        "        elif choice == \"2\":\n",
        "            login()\n",
        "        elif choice == \"3\":\n",
        "            c=False\n",
        "        else:\n",
        "            print(\"Invalid input\")\n",
        "\n",
        "system()\n"
      ],
      "metadata": {
        "id": "Hhk8PaFYSD6A"
      },
      "execution_count": null,
      "outputs": []
    },
    {
      "cell_type": "code",
      "source": [
        "list1=input(\"enter list seperated by spaces\").split(\" \")\n",
        "dicti={}\n",
        "count=0;\n",
        "for i in list1:\n",
        "  if i in dicti:\n",
        "    dicti[i]=dicti[i]+1\n",
        "  else:\n",
        "    dicti[i]=1\n",
        "print(dicti)"
      ],
      "metadata": {
        "colab": {
          "base_uri": "https://localhost:8080/"
        },
        "id": "J1h0N74vTgIG",
        "outputId": "f2e50fa5-2c68-4ce8-ede9-062cc05ab9ff"
      },
      "execution_count": 56,
      "outputs": [
        {
          "output_type": "stream",
          "name": "stdout",
          "text": [
            "enter list seperated by spacesap ap c c sa\n",
            "{'ap': 2, 'c': 2, 'sa': 1}\n"
          ]
        }
      ]
    },
    {
      "cell_type": "code",
      "source": [
        "def convert(choice,number):\n",
        "  if choice==1:\n",
        "    ans=number*9/5+32\n",
        "    print(ans)\n",
        "  else:\n",
        "    ans=(number-32)*5/9\n",
        "    print(ans)\n",
        "choice=int(input(\"enter choice(1 for C to F ,anything for F to C) \"))\n",
        "number=int(input(\"enter number\"))\n",
        "convert(choice,number)"
      ],
      "metadata": {
        "colab": {
          "base_uri": "https://localhost:8080/"
        },
        "id": "B4kF-RjfU0nr",
        "outputId": "99f070ac-3270-4161-e3d4-a3486b846934"
      },
      "execution_count": 59,
      "outputs": [
        {
          "output_type": "stream",
          "name": "stdout",
          "text": [
            "enter choice(1 for C to F ,anything for F to C) 1\n",
            "enter number3\n",
            "37.4\n"
          ]
        }
      ]
    }
  ]
}